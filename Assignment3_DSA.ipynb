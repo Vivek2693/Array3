{
 "cells": [
  {
   "cell_type": "code",
   "execution_count": 2,
   "id": "21117e0c-74f6-4364-aa54-e87450582ae5",
   "metadata": {},
   "outputs": [
    {
     "name": "stdout",
     "output_type": "stream",
     "text": [
      "['2', '4->49', '51->74', '76->99']\n"
     ]
    }
   ],
   "source": [
    "#7.\n",
    "\n",
    "def findMissingRanges(nums, lower, upper):\n",
    "    result = []\n",
    "    prev = lower - 1\n",
    "\n",
    "    for num in nums:\n",
    "        if num > prev + 1:\n",
    "            result.append(getRange(prev + 1, num - 1))\n",
    "        prev = num\n",
    "\n",
    "    if prev < upper:\n",
    "        result.append(getRange(prev + 1, upper))\n",
    "\n",
    "    return result\n",
    "\n",
    "def getRange(start, end):\n",
    "    if start == end:\n",
    "        return str(start)\n",
    "    else:\n",
    "        return str(start) + '->' + str(end)\n",
    "\n",
    "# Example usage:\n",
    "nums = [0, 1, 3, 50, 75]\n",
    "lower = 0\n",
    "upper = 99\n",
    "result = findMissingRanges(nums, lower, upper)\n",
    "print(result)\n"
   ]
  },
  {
   "cell_type": "code",
   "execution_count": 3,
   "id": "5d68327d-5d58-4fae-a195-9419aa745367",
   "metadata": {},
   "outputs": [
    {
     "name": "stdout",
     "output_type": "stream",
     "text": [
      "1\n"
     ]
    }
   ],
   "source": [
    "#6.\n",
    "\n",
    "def singleNumber(nums):\n",
    "    result = 0\n",
    "\n",
    "    for num in nums:\n",
    "        result ^= num\n",
    "\n",
    "    return result\n",
    "\n",
    "# Example usage:\n",
    "nums = [2, 2, 1]\n",
    "result = singleNumber(nums)\n",
    "print(result)\n"
   ]
  },
  {
   "cell_type": "code",
   "execution_count": 4,
   "id": "e2a540ab-8868-4a1e-ba17-96130ad04270",
   "metadata": {},
   "outputs": [
    {
     "name": "stdout",
     "output_type": "stream",
     "text": [
      "[1, 2, 4]\n"
     ]
    }
   ],
   "source": [
    "#5. \n",
    "\n",
    "def plusOne(digits):\n",
    "    n = len(digits)\n",
    "    carry = 1\n",
    "\n",
    "    for i in range(n - 1, -1, -1):\n",
    "        sum = digits[i] + carry\n",
    "        if sum < 10:\n",
    "            digits[i] = sum\n",
    "            carry = 0\n",
    "        else:\n",
    "            digits[i] = 0\n",
    "            carry = 1\n",
    "\n",
    "    if carry == 1:\n",
    "        digits.insert(0, 1)\n",
    "\n",
    "    return digits\n",
    "\n",
    "# Example usage:\n",
    "digits = [1, 2, 3]\n",
    "result = plusOne(digits)\n",
    "print(result)\n"
   ]
  },
  {
   "cell_type": "code",
   "execution_count": 5,
   "id": "26fe08ce-35fd-45cc-bfed-42c49a19974d",
   "metadata": {},
   "outputs": [
    {
     "name": "stdout",
     "output_type": "stream",
     "text": [
      "2\n"
     ]
    }
   ],
   "source": [
    "#4.\n",
    "\n",
    "def searchInsert(nums, target):\n",
    "    left, right = 0, len(nums) - 1\n",
    "\n",
    "    while left <= right:\n",
    "        mid = (left + right) // 2\n",
    "        if nums[mid] == target:\n",
    "            return mid\n",
    "        elif nums[mid] < target:\n",
    "            left = mid + 1\n",
    "        else:\n",
    "            right = mid - 1\n",
    "\n",
    "    # If the target is not found, return the left pointer as the index where it should be inserted\n",
    "    return left\n",
    "\n",
    "# Example usage:\n",
    "nums = [1, 3, 5, 6]\n",
    "target = 5\n",
    "index = searchInsert(nums, target)\n",
    "print(index)\n"
   ]
  },
  {
   "cell_type": "code",
   "execution_count": 6,
   "id": "fed4074e-ce88-4806-8113-da872aaa58ae",
   "metadata": {},
   "outputs": [
    {
     "name": "stdout",
     "output_type": "stream",
     "text": [
      "[1, 3, 2]\n"
     ]
    }
   ],
   "source": [
    "#3.\n",
    "\n",
    "\n",
    "\n",
    "def nextPermutation(nums):\n",
    "    n = len(nums)\n",
    "    i = n - 2\n",
    "\n",
    "    # Find the first pair (i, i+1) where nums[i] < nums[i+1]\n",
    "    while i >= 0 and nums[i] >= nums[i + 1]:\n",
    "        i -= 1\n",
    "\n",
    "    if i >= 0:\n",
    "        j = n - 1\n",
    "        # Find the smallest element greater than nums[i]\n",
    "        while j > i and nums[j] <= nums[i]:\n",
    "            j -= 1\n",
    "        # Swap nums[i] with nums[j]\n",
    "        nums[i], nums[j] = nums[j], nums[i]\n",
    "\n",
    "    # Reverse the subarray starting from i+1\n",
    "    left = i + 1\n",
    "    right = n - 1\n",
    "    while left < right:\n",
    "        nums[left], nums[right] = nums[right], nums[left]\n",
    "        left += 1\n",
    "        right -= 1\n",
    "\n",
    "# Example usage:\n",
    "nums = [1, 2, 3]\n",
    "nextPermutation(nums)\n",
    "print(nums)\n"
   ]
  },
  {
   "cell_type": "code",
   "execution_count": 7,
   "id": "65c5ca37-5c40-4813-b188-4ea1fa0e0fc2",
   "metadata": {},
   "outputs": [
    {
     "name": "stdout",
     "output_type": "stream",
     "text": [
      "[[-2, -1, 1, 2], [-2, 0, 0, 2], [-1, 0, 0, 1]]\n"
     ]
    }
   ],
   "source": [
    "#2.\n",
    "\n",
    "def fourSum(nums, target):\n",
    "    nums.sort()\n",
    "    n = len(nums)\n",
    "    quadruplets = []\n",
    "\n",
    "    for i in range(n - 3):\n",
    "        if i > 0 and nums[i] == nums[i - 1]:\n",
    "            continue\n",
    "\n",
    "        for j in range(i + 1, n - 2):\n",
    "            if j > i + 1 and nums[j] == nums[j - 1]:\n",
    "                continue\n",
    "\n",
    "            left = j + 1\n",
    "            right = n - 1\n",
    "\n",
    "            while left < right:\n",
    "                curr_sum = nums[i] + nums[j] + nums[left] + nums[right]\n",
    "\n",
    "                if curr_sum == target:\n",
    "                    quadruplets.append([nums[i], nums[j], nums[left], nums[right]])\n",
    "                    left += 1\n",
    "                    right -= 1\n",
    "\n",
    "                    while left < right and nums[left] == nums[left - 1]:\n",
    "                        left += 1\n",
    "\n",
    "                    while left < right and nums[right] == nums[right + 1]:\n",
    "                        right -= 1\n",
    "\n",
    "                elif curr_sum < target:\n",
    "                    left += 1\n",
    "                else:\n",
    "                    right -= 1\n",
    "\n",
    "    return quadruplets\n",
    "\n",
    "# Example usage:\n",
    "nums = [1, 0, -1, 0, -2, 2]\n",
    "target = 0\n",
    "quadruplets = fourSum(nums, target)\n",
    "print(quadruplets)\n"
   ]
  },
  {
   "cell_type": "code",
   "execution_count": null,
   "id": "f9af0d4a-c5a3-4aed-9342-1816b9a05f3f",
   "metadata": {},
   "outputs": [],
   "source": []
  },
  {
   "cell_type": "code",
   "execution_count": 10,
   "id": "70e41365-0231-48a2-8e81-a7256d8bdafe",
   "metadata": {},
   "outputs": [
    {
     "name": "stdout",
     "output_type": "stream",
     "text": [
      "[[-2, -1, 1, 2], [-2, 0, 0, 2], [-1, 0, 0, 1]]\n"
     ]
    }
   ],
   "source": [
    "#1\n",
    "\n",
    "def fourSum(nums, target):\n",
    "    nums.sort()\n",
    "    n = len(nums)\n",
    "    quadruplets = []\n",
    "\n",
    "    for i in range(n - 3):\n",
    "        if i > 0 and nums[i] == nums[i - 1]:\n",
    "            continue\n",
    "\n",
    "        for j in range(i + 1, n - 2):\n",
    "            if j > i + 1 and nums[j] == nums[j - 1]:\n",
    "                continue\n",
    "\n",
    "            left = j + 1\n",
    "            right = n - 1\n",
    "\n",
    "            while left < right:\n",
    "                curr_sum = nums[i] + nums[j] + nums[left] + nums[right]\n",
    "\n",
    "                if curr_sum == target:\n",
    "                    quadruplets.append([nums[i], nums[j], nums[left], nums[right]])\n",
    "                    left += 1\n",
    "                    right -= 1\n",
    "\n",
    "                    while left < right and nums[left] == nums[left - 1]:\n",
    "                        left += 1\n",
    "\n",
    "                    while left < right and nums[right] == nums[right + 1]:\n",
    "                        right -= 1\n",
    "\n",
    "                elif curr_sum < target:\n",
    "                    left += 1\n",
    "                else:\n",
    "                    right -= 1\n",
    "\n",
    "    return quadruplets\n",
    "\n",
    "# Example usage:\n",
    "nums = [1, 0, -1, 0, -2, 2]\n",
    "target = 0\n",
    "quadruplets = fourSum(nums, target)\n",
    "print(quadruplets)\n"
   ]
  },
  {
   "cell_type": "code",
   "execution_count": null,
   "id": "87f6881b-9379-4405-bb55-11921e54e39b",
   "metadata": {},
   "outputs": [],
   "source": []
  }
 ],
 "metadata": {
  "kernelspec": {
   "display_name": "Python 3 (ipykernel)",
   "language": "python",
   "name": "python3"
  },
  "language_info": {
   "codemirror_mode": {
    "name": "ipython",
    "version": 3
   },
   "file_extension": ".py",
   "mimetype": "text/x-python",
   "name": "python",
   "nbconvert_exporter": "python",
   "pygments_lexer": "ipython3",
   "version": "3.10.8"
  }
 },
 "nbformat": 4,
 "nbformat_minor": 5
}
